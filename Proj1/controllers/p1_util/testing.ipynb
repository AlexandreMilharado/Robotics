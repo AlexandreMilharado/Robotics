{
 "cells": [
  {
   "cell_type": "code",
   "execution_count": 1,
   "id": "e6e1543a",
   "metadata": {},
   "outputs": [],
   "source": [
    "import os\n",
    "import sys\n",
    "\n",
    "# Assume notebook is in the same directory or one level below the module\n",
    "notebook_path = os.getcwd()  # Gets the current working directory of the notebook\n",
    "parent_path = os.path.abspath(os.path.join(notebook_path, '..'))\n",
    "\n",
    "sys.path.append(parent_path)\n",
    "\n",
    "from p1_util.Individual import Individual\n",
    "from p1_util.History_Individuals import History_Individuals\n"
   ]
  },
  {
   "cell_type": "code",
   "execution_count": 4,
   "id": "b54290be",
   "metadata": {},
   "outputs": [
    {
     "data": {
      "text/plain": [
       "'../p1_util/evolutionary.csv'"
      ]
     },
     "execution_count": 4,
     "metadata": {},
     "output_type": "execute_result"
    }
   ],
   "source": [
    "# Individuals History\n",
    "INDIVIDUALS_HISTORY_PATH = \"../p1_util/evolutionary.csv\"    # Path for Individuals History\n",
    "BEST_INDIVIDUAL_PATH = \"../p1_util/best_individual.pkl\"     # Path for Best Individual\n",
    "\n",
    "history = History_Individuals(INDIVIDUALS_HISTORY_PATH = INDIVIDUALS_HISTORY_PATH,\n",
    "                            BEST_INDIVIDUAL_PATH = BEST_INDIVIDUAL_PATH)\n",
    "history.load_history()\n",
    "\n",
    "history.create_individual(1, [1, 2, 3, 4, 5]).to_list()\n",
    "history.INDIVIDUALS_HISTORY_PATH"
   ]
  },
  {
   "cell_type": "code",
   "execution_count": 1,
   "id": "e3143f5b",
   "metadata": {},
   "outputs": [],
   "source": [
    "import numpy as np\n",
    "\n",
    "\n",
    "def random_orientation():                                       # USELESS\n",
    "    angle = np.random.uniform(0, 2 * np.pi)\n",
    "    return (0, 0, 1, angle)\n",
    "\n",
    "def random_position(min_radius, max_radius, z):                 # USELESS\n",
    "    radius = np.random.uniform(min_radius, max_radius)\n",
    "    angle = random_orientation()\n",
    "    x = radius * np.cos(angle[3])\n",
    "    y = radius * np.sin(angle[3])\n",
    "    return (x, y, z)\n"
   ]
  }
 ],
 "metadata": {
  "kernelspec": {
   "display_name": ".venv",
   "language": "python",
   "name": "python3"
  },
  "language_info": {
   "codemirror_mode": {
    "name": "ipython",
    "version": 3
   },
   "file_extension": ".py",
   "mimetype": "text/x-python",
   "name": "python",
   "nbconvert_exporter": "python",
   "pygments_lexer": "ipython3",
   "version": "3.12.9"
  }
 },
 "nbformat": 4,
 "nbformat_minor": 5
}
